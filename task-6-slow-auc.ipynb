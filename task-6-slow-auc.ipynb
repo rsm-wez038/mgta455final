{
 "cells": [
  {
   "attachments": {},
   "cell_type": "markdown",
   "id": "increased-cameroon",
   "metadata": {},
   "source": [
    "# The slow(est) way to generate an ROC curve"
   ]
  },
  {
   "cell_type": "code",
   "execution_count": 1,
   "id": "loose-parking",
   "metadata": {},
   "outputs": [],
   "source": [
    "import matplotlib.pyplot as plt\n",
    "import numpy as np\n",
    "import pandas as pd\n",
    "import pyrsm as rsm\n",
    "import seaborn as sns\n",
    "from sklearn.metrics import auc, roc_curve"
   ]
  },
  {
   "cell_type": "code",
   "execution_count": 2,
   "id": "indoor-render",
   "metadata": {},
   "outputs": [],
   "source": [
    "# load data\n",
    "bbb = pd.read_parquet(\"data/bbb.parquet\")"
   ]
  },
  {
   "cell_type": "code",
   "execution_count": 3,
   "id": "planned-organization",
   "metadata": {},
   "outputs": [
    {
     "data": {
      "text/markdown": [
       "# BookBinders Book Club\n",
       "\n",
       "Information on purchasing history and demographics for 50,000 of the BookBinders Book Club's customers'. Variables included in the dataset are described below\n",
       "\n",
       "## Variables\n",
       "\n",
       "* acctnum: Customer account number\n",
       "* gender: Customer gender identity (M = male, F = female, O = Other or unknown)\n",
       "* state: State where customer lives (2-character abbreviation)\n",
       "* zip: ZIP code (5-digit)\n",
       "* zip3: First 3 digits of ZIP code\n",
       "* first: Number of months since first purchase\n",
       "* last: Number of months since most recent purchase\n",
       "* book: Total dollars spent on books\n",
       "* nonbook: Total dollars spent on non-book products\n",
       "* total: Total dollars spent\n",
       "* purch: Total number of books purchased\n",
       "* child: Total number of children's books purchased\n",
       "* youth: Total number of youth books purchased\n",
       "* cook: Total number of cook books purchased \n",
       "* do_it: Total number of do-it-yourself books purchased \n",
       "* reference: Total number of reference books purchased \n",
       "* art: Total number of art books purchased \n",
       "* geog: Total number of geography books purchased \n",
       "* buyer: Did the customer buy The Art History of Florence?  (yes, no)\n",
       "* training: Dummy variable that splits the dataset into a training (1) and validation (0) dataset\n"
      ],
      "text/plain": [
       "<IPython.core.display.Markdown object>"
      ]
     },
     "metadata": {},
     "output_type": "display_data"
    }
   ],
   "source": [
    "# review the data\n",
    "rsm.md(\"data/bbb_description.md\")"
   ]
  },
  {
   "cell_type": "code",
   "execution_count": 4,
   "id": "9eaee655",
   "metadata": {},
   "outputs": [
    {
     "data": {
      "text/plain": [
       "'0.9.26'"
      ]
     },
     "execution_count": 4,
     "metadata": {},
     "output_type": "execute_result"
    }
   ],
   "source": [
    "rsm.__version__"
   ]
  },
  {
   "cell_type": "code",
   "execution_count": 5,
   "id": "attempted-stewart",
   "metadata": {},
   "outputs": [],
   "source": [
    "evar = [\n",
    "    \"gender\",\n",
    "    \"last\",\n",
    "    \"total\",\n",
    "    \"child\",\n",
    "    \"youth\",\n",
    "    \"cook\",\n",
    "    \"do_it\",\n",
    "    \"reference\",\n",
    "    \"art\",\n",
    "    \"geog\",\n",
    "]"
   ]
  },
  {
   "cell_type": "code",
   "execution_count": 6,
   "id": "bd926a96",
   "metadata": {},
   "outputs": [
    {
     "name": "stdout",
     "output_type": "stream",
     "text": [
      "Logistic regression (GLM)\n",
      "Data                 : bbb\n",
      "Response variable    : buyer\n",
      "Level                : yes\n",
      "Explanatory variables: gender, last, total, child, youth, cook, do_it, reference, art, geog\n",
      "Null hyp.: There is no effect of x on buyer\n",
      "Alt. hyp.: There is an effect of x on buyer\n",
      "\n",
      "              OR     OR%  coefficient  std.error  z.value p.value     \n",
      "Intercept  0.093  -90.7%        -2.37      0.050  -47.518  < .001  ***\n",
      "gender[M]  2.165  116.5%         0.77      0.037   21.065  < .001  ***\n",
      "gender[O]  1.118   11.8%         0.11      0.074    1.507   0.132     \n",
      "last       0.910   -9.0%        -0.09      0.003  -33.916  < .001  ***\n",
      "total      1.001    0.1%         0.00      0.000    5.626  < .001  ***\n",
      "child      0.830  -17.0%        -0.19      0.017  -10.759  < .001  ***\n",
      "youth      0.893  -10.7%        -0.11      0.026   -4.332  < .001  ***\n",
      "cook       0.763  -23.7%        -0.27      0.017  -15.778  < .001  ***\n",
      "do_it      0.583  -41.7%        -0.54      0.027  -19.992  < .001  ***\n",
      "reference  1.264   26.4%         0.23      0.027    8.821  < .001  ***\n",
      "art        3.177  217.7%         1.16      0.022   52.194  < .001  ***\n",
      "geog       1.775   77.5%         0.57      0.019   30.793  < .001  ***\n",
      "\n",
      "Signif. codes:  0 '***' 0.001 '**' 0.01 '*' 0.05 '.' 0.1 ' ' 1\n",
      "\n",
      "Pseudo R-squared (McFadden): 0.205\n",
      "Pseudo R-squared (McFadden adjusted): 0.205\n",
      "Area under the RO Curve (AUC): 0.812\n",
      "Log-likelihood: -12059.992, AIC: 24143.985, BIC: 24249.822\n",
      "Chi-squared: 6235.48, df(11), p.value < 0.001 \n",
      "Nr obs: 50,000\n"
     ]
    }
   ],
   "source": [
    "lr = rsm.model.logistic({\"bbb\": bbb}, rvar=\"buyer\", lev=\"yes\", evar=evar)\n",
    "lr.summary()"
   ]
  },
  {
   "cell_type": "code",
   "execution_count": 7,
   "id": "motivated-bones",
   "metadata": {},
   "outputs": [],
   "source": [
    "bbb[\"pred_logit\"] = lr.predict(bbb)[\"prediction\"]"
   ]
  },
  {
   "cell_type": "markdown",
   "id": "literary-upset",
   "metadata": {
    "lines_to_next_cell": 2
   },
   "source": [
    "Function to calculate the TPR and TNR at different trade-off values (and break-even values)"
   ]
  },
  {
   "cell_type": "code",
   "execution_count": 8,
   "id": "adjacent-hudson",
   "metadata": {
    "lines_to_next_cell": 2
   },
   "outputs": [],
   "source": [
    "def slow_roc(outcome, pred, cost, margin):\n",
    "    tbl = pd.DataFrame(\n",
    "        {\n",
    "            \"cost\": cost,\n",
    "            \"margin\": margin,\n",
    "            \"BE\": cost / margin,\n",
    "            \"TP\": np.nan,\n",
    "            \"FP\": np.nan,\n",
    "            \"TN\": np.nan,\n",
    "            \"FN\": np.nan,\n",
    "            \"TNR\": np.nan,\n",
    "            \"TPR\": np.nan,\n",
    "        }\n",
    "    )\n",
    "    for i in range(len(cost)):\n",
    "        breakeven = tbl.loc[i, \"BE\"]\n",
    "        TP = np.where((pred > breakeven) & outcome, 1, 0).sum()\n",
    "        FP = np.where((pred > breakeven) & (outcome == False), 1, 0).sum()\n",
    "        TN = np.where((pred <= breakeven) & (outcome == False), 1, 0).sum()\n",
    "        FN = np.where((pred <= breakeven) & outcome, 1, 0).sum()\n",
    "        TPR = TP / (TP + FN)\n",
    "        TNR = TN / (TN + FP)\n",
    "        tbl.iloc[i, 3:9] = [TP, FP, TN, FN, TNR, TPR]\n",
    "\n",
    "    return tbl"
   ]
  },
  {
   "cell_type": "markdown",
   "id": "brown-league",
   "metadata": {},
   "source": [
    "Creating the data for the ROC curve"
   ]
  },
  {
   "cell_type": "code",
   "execution_count": 9,
   "id": "twelve-canada",
   "metadata": {},
   "outputs": [],
   "source": [
    "outcome = bbb[\"buyer\"] == \"yes\"\n",
    "pred = bbb[\"pred_logit\"]\n",
    "cost = np.arange(0.0, 6.0, 0.05)\n",
    "roc_data = slow_roc(outcome, pred, cost=cost, margin=6)"
   ]
  },
  {
   "cell_type": "markdown",
   "id": "improved-assist",
   "metadata": {},
   "source": [
    "Plotting the ROC curve. The axes are TPR and TNR\n",
    "\n",
    "* TPR is the true positive rate: TP / (TP + FN)\n",
    "\n",
    "The TPR measures the proportion of actual positive outcomes that are correctly predicted by the model\n",
    "\n",
    "* TNR is the true negative rate: TN / (TN + FP)\n",
    "\n",
    "The TNR measures the proportion of actual negative outcomes that are correctly predicted by the model\n"
   ]
  },
  {
   "cell_type": "code",
   "execution_count": 10,
   "id": "champion-doctor",
   "metadata": {},
   "outputs": [
    {
     "data": {
      "image/png": "[encoded data removed]",
      "text/plain": [
       "<Figure size 600x600 with 1 Axes>"
      ]
     },
     "metadata": {},
     "output_type": "display_data"
    }
   ],
   "source": [
    "#plt.cla()\n",
    "fig = plt.figure(figsize=(6, 6))  # Set the figure size to be square\n",
    "fig = sns.lineplot(x=\"TNR\", y=\"TPR\", data=roc_data)\n",
    "fig.set(ylabel=\"TPR (Sensitivity)\", xlabel=\"TNR (Specificity)\")\n",
    "plt.gca().invert_xaxis()\n",
    "fig = fig.plot([0, 1], [0, 1], transform=fig.transAxes, linestyle=\"--\")"
   ]
  },
  {
   "cell_type": "markdown",
   "id": "motivated-venture",
   "metadata": {},
   "source": [
    "Calculating the TPR and TNR for the break-even point in the BBB case"
   ]
  },
  {
   "cell_type": "code",
   "execution_count": 11,
   "id": "biblical-genesis",
   "metadata": {},
   "outputs": [],
   "source": [
    "bbb_to = slow_roc(outcome, pred, cost=np.array([0.5]), margin=6)"
   ]
  },
  {
   "cell_type": "code",
   "execution_count": 12,
   "id": "5f012ffa",
   "metadata": {},
   "outputs": [
    {
     "data": {
      "text/plain": [
       "0.731144729319671"
      ]
     },
     "execution_count": 12,
     "metadata": {},
     "output_type": "execute_result"
    }
   ],
   "source": [
    "bbb_to[\"TNR\"][0]"
   ]
  },
  {
   "cell_type": "code",
   "execution_count": 13,
   "id": "fiscal-vintage",
   "metadata": {},
   "outputs": [
    {
     "data": {
      "image/png": "[encoded data removed]",
      "text/plain": [
       "<Figure size 640x480 with 1 Axes>"
      ]
     },
     "metadata": {},
     "output_type": "display_data"
    }
   ],
   "source": [
    "plt.cla()\n",
    "fig = sns.lineplot(x=\"TNR\", y=\"TPR\", data=roc_data)\n",
    "fig.set(ylabel=\"TPR (Sensitivity)\", xlabel=\"TNR (Specificity)\")\n",
    "plt.gca().invert_xaxis()\n",
    "plt.gca().set_aspect(\"equal\", adjustable=\"box\")\n",
    "fig.plot([0, 1], [0, 1], transform=fig.transAxes, linestyle=\"--\")\n",
    "plt.scatter(bbb_to[\"TNR\"], bbb_to[\"TPR\"], s=50, color=\"red\")\n",
    "plt.annotate(\"cost: 0.5\\nmargin: 6\\nBE: 0.083\", (bbb_to[\"TNR\"][0] - 0.03, bbb_to[\"TPR\"][0] - 0.13))\n",
    "plt.show()"
   ]
  },
  {
   "cell_type": "code",
   "execution_count": 14,
   "id": "incorporated-macro",
   "metadata": {},
   "outputs": [],
   "source": [
    "bbb_to = slow_roc(outcome, pred, cost=np.array([6]), margin=6)"
   ]
  },
  {
   "cell_type": "code",
   "execution_count": 15,
   "id": "entitled-pledge",
   "metadata": {},
   "outputs": [
    {
     "data": {
      "image/png": "[encoded data removed]",
      "text/plain": [
       "<Figure size 640x480 with 1 Axes>"
      ]
     },
     "metadata": {},
     "output_type": "display_data"
    }
   ],
   "source": [
    "plt.cla()\n",
    "fig = sns.lineplot(x=\"TNR\", y=\"TPR\", data=roc_data)\n",
    "fig.set(ylabel=\"TPR (Sensitivity)\", xlabel=\"TNR (Specificity)\")\n",
    "plt.gca().invert_xaxis()\n",
    "plt.gca().set_aspect(\"equal\", adjustable=\"box\")\n",
    "fig.plot([0, 1], [0, 1], transform=fig.transAxes, linestyle=\"--\")\n",
    "plt.scatter(bbb_to[\"TNR\"], bbb_to[\"TPR\"], s=50, color=\"red\")\n",
    "plt.annotate(\"cost: 6, BE: 1\", (bbb_to[\"TNR\"][0] - 0.03, bbb_to[\"TPR\"][0]))\n",
    "plt.show()"
   ]
  },
  {
   "cell_type": "code",
   "execution_count": 16,
   "id": "suited-circus",
   "metadata": {},
   "outputs": [],
   "source": [
    "bbb_to = slow_roc(outcome, pred, cost=np.array([0]), margin=6)"
   ]
  },
  {
   "cell_type": "code",
   "execution_count": 17,
   "id": "appropriate-crash",
   "metadata": {},
   "outputs": [
    {
     "data": {
      "image/png": "[encoded data removed]",
      "text/plain": [
       "<Figure size 640x480 with 1 Axes>"
      ]
     },
     "metadata": {},
     "output_type": "display_data"
    }
   ],
   "source": [
    "plt.cla()\n",
    "fig = sns.lineplot(x=\"TNR\", y=\"TPR\", data=roc_data)\n",
    "fig.set(ylabel=\"TPR (Sensitivity)\", xlabel=\"TNR (Specificity)\")\n",
    "plt.gca().invert_xaxis()\n",
    "plt.gca().set_aspect(\"equal\", adjustable=\"box\")\n",
    "fig.plot([0, 1], [0, 1], transform=fig.transAxes, linestyle=\"--\")\n",
    "plt.scatter(bbb_to[\"TNR\"], bbb_to[\"TPR\"], s=50, color=\"red\")\n",
    "plt.annotate(\"cost: 0, BE: 0\", (bbb_to[\"TNR\"][0] + 0.5, bbb_to[\"TPR\"][0]))\n",
    "plt.show()"
   ]
  },
  {
   "cell_type": "markdown",
   "id": "fitting-complaint",
   "metadata": {},
   "source": [
    "Confirm plot with roc_curve from sklearn"
   ]
  },
  {
   "cell_type": "code",
   "execution_count": 18,
   "id": "closed-psychiatry",
   "metadata": {},
   "outputs": [
    {
     "data": {
      "text/html": [
       "<div>\n",
       "<style scoped>\n",
       "    .dataframe tbody tr th:only-of-type {\n",
       "        vertical-align: middle;\n",
       "    }\n",
       "\n",
       "    .dataframe tbody tr th {\n",
       "        vertical-align: top;\n",
       "    }\n",
       "\n",
       "    .dataframe thead th {\n",
       "        text-align: right;\n",
       "    }\n",
       "</style>\n",
       "<table border=\"1\" class=\"dataframe\">\n",
       "  <thead>\n",
       "    <tr style=\"text-align: right;\">\n",
       "      <th></th>\n",
       "      <th>FPR</th>\n",
       "      <th>TPR</th>\n",
       "    </tr>\n",
       "  </thead>\n",
       "  <tbody>\n",
       "    <tr>\n",
       "      <th>0</th>\n",
       "      <td>0.000000</td>\n",
       "      <td>0.000000</td>\n",
       "    </tr>\n",
       "    <tr>\n",
       "      <th>1</th>\n",
       "      <td>0.000000</td>\n",
       "      <td>0.000221</td>\n",
       "    </tr>\n",
       "    <tr>\n",
       "      <th>2</th>\n",
       "      <td>0.000000</td>\n",
       "      <td>0.002654</td>\n",
       "    </tr>\n",
       "    <tr>\n",
       "      <th>3</th>\n",
       "      <td>0.000022</td>\n",
       "      <td>0.002654</td>\n",
       "    </tr>\n",
       "    <tr>\n",
       "      <th>4</th>\n",
       "      <td>0.000022</td>\n",
       "      <td>0.007519</td>\n",
       "    </tr>\n",
       "    <tr>\n",
       "      <th>...</th>\n",
       "      <td>...</td>\n",
       "      <td>...</td>\n",
       "    </tr>\n",
       "    <tr>\n",
       "      <th>11364</th>\n",
       "      <td>0.990391</td>\n",
       "      <td>1.000000</td>\n",
       "    </tr>\n",
       "    <tr>\n",
       "      <th>11365</th>\n",
       "      <td>0.990435</td>\n",
       "      <td>1.000000</td>\n",
       "    </tr>\n",
       "    <tr>\n",
       "      <th>11366</th>\n",
       "      <td>0.991051</td>\n",
       "      <td>1.000000</td>\n",
       "    </tr>\n",
       "    <tr>\n",
       "      <th>11367</th>\n",
       "      <td>0.991095</td>\n",
       "      <td>1.000000</td>\n",
       "    </tr>\n",
       "    <tr>\n",
       "      <th>11368</th>\n",
       "      <td>1.000000</td>\n",
       "      <td>1.000000</td>\n",
       "    </tr>\n",
       "  </tbody>\n",
       "</table>\n",
       "<p>11369 rows × 2 columns</p>\n",
       "</div>"
      ],
      "text/plain": [
       "            FPR       TPR\n",
       "0      0.000000  0.000000\n",
       "1      0.000000  0.000221\n",
       "2      0.000000  0.002654\n",
       "3      0.000022  0.002654\n",
       "4      0.000022  0.007519\n",
       "...         ...       ...\n",
       "11364  0.990391  1.000000\n",
       "11365  0.990435  1.000000\n",
       "11366  0.991051  1.000000\n",
       "11367  0.991095  1.000000\n",
       "11368  1.000000  1.000000\n",
       "\n",
       "[11369 rows x 2 columns]"
      ]
     },
     "execution_count": 18,
     "metadata": {},
     "output_type": "execute_result"
    }
   ],
   "source": [
    "bbb[\"buyer_yes\"] = rsm.ifelse(bbb.buyer == \"yes\", 1, 0)\n",
    "fpr, tpr, thresholds = roc_curve(bbb.buyer_yes, bbb.pred_logit)\n",
    "py_roc = pd.DataFrame({\"FPR\": fpr, \"TPR\": tpr})\n",
    "py_roc"
   ]
  },
  {
   "cell_type": "code",
   "execution_count": 19,
   "id": "concerned-arthur",
   "metadata": {},
   "outputs": [
    {
     "data": {
      "image/png": "[encoded data removed]",
      "text/plain": [
       "<Figure size 600x600 with 1 Axes>"
      ]
     },
     "metadata": {},
     "output_type": "display_data"
    }
   ],
   "source": [
    "# slow!\n",
    "# plt.cla≥()\n",
    "fig = plt.figure(figsize=(6, 6))  # Set the figure size to be square\n",
    "fig = sns.lineplot(x=\"FPR\", y=\"TPR\", data=py_roc)\n",
    "fig.set(ylabel=\"TPR (Sensitivity)\", xlabel=\"FPR (Fall-out)\")\n",
    "fig = fig.plot([0, 1], [0, 1], transform=fig.transAxes, linestyle=\"--\")\n",
    "# plt.show()"
   ]
  },
  {
   "cell_type": "markdown",
   "id": "arranged-cause",
   "metadata": {},
   "source": [
    "### Probabilistic interpretation of AUC\n",
    "\n",
    "See https://www.alexejgossmann.com/auc/ for a very nice dicsussion"
   ]
  },
  {
   "cell_type": "code",
   "execution_count": 20,
   "id": "unlimited-waterproof",
   "metadata": {},
   "outputs": [
    {
     "data": {
      "text/plain": [
       "0.8117872663773604"
      ]
     },
     "execution_count": 20,
     "metadata": {},
     "output_type": "execute_result"
    }
   ],
   "source": [
    "# Adapted from Alexej's code\n",
    "s = 0\n",
    "did_buy = np.where(outcome)[0]\n",
    "did_not_buy = np.where(outcome == False)[0]\n",
    "for i in did_buy:\n",
    "    s = s + np.where(pred[i] > pred[did_not_buy], 1, 0).sum()\n",
    "    s = s + np.where(pred[i] == pred[did_not_buy], 1, 0).sum() / 2\n",
    "\n",
    "s / ((outcome == True).sum() * (outcome == False).sum())"
   ]
  },
  {
   "cell_type": "markdown",
   "id": "broadband-monday",
   "metadata": {},
   "source": [
    "Lets compare that result to what we would get with a formal calculation:"
   ]
  },
  {
   "cell_type": "code",
   "execution_count": 21,
   "id": "elect-domain",
   "metadata": {},
   "outputs": [
    {
     "data": {
      "text/plain": [
       "0.8117872663773604"
      ]
     },
     "execution_count": 21,
     "metadata": {},
     "output_type": "execute_result"
    }
   ],
   "source": [
    "auc(fpr, tpr)"
   ]
  },
  {
   "cell_type": "markdown",
   "id": "warming-butterfly",
   "metadata": {},
   "source": [
    "Lets try a sampling approach"
   ]
  },
  {
   "cell_type": "code",
   "execution_count": 22,
   "id": "musical-bulgarian",
   "metadata": {},
   "outputs": [
    {
     "data": {
      "text/plain": [
       "0.801"
      ]
     },
     "execution_count": 22,
     "metadata": {},
     "output_type": "execute_result"
    }
   ],
   "source": [
    "pred_did_buy = pred[did_buy]\n",
    "pred_did_not_buy = pred[did_not_buy]\n",
    "nr = 2000\n",
    "(np.random.choice(pred_did_buy, nr) > np.random.choice(pred_did_not_buy, nr)).mean()"
   ]
  },
  {
   "cell_type": "markdown",
   "id": "applied-disclosure",
   "metadata": {},
   "source": [
    "Lets do repeated simulation as that should get us closer to the true value"
   ]
  },
  {
   "cell_type": "code",
   "execution_count": 23,
   "id": "biological-stomach",
   "metadata": {},
   "outputs": [
    {
     "data": {
      "text/plain": [
       "0.8119650000000002"
      ]
     },
     "execution_count": 23,
     "metadata": {},
     "output_type": "execute_result"
    }
   ],
   "source": [
    "rep = 100\n",
    "s = np.array([np.nan] * rep)\n",
    "for i in range(0, rep):\n",
    "    s[i] = (\n",
    "        np.random.choice(pred_did_buy, nr) > np.random.choice(pred_did_not_buy, nr)\n",
    "    ).mean()\n",
    "\n",
    "s.mean()"
   ]
  },
  {
   "cell_type": "markdown",
   "id": "western-needle",
   "metadata": {},
   "source": [
    "To calculate many measure of model performance in one step, use the `evalbin` function from the `pyrsm` packages"
   ]
  },
  {
   "cell_type": "code",
   "execution_count": 24,
   "id": "suspected-southeast",
   "metadata": {},
   "outputs": [
    {
     "data": {
      "text/html": [
       "<div>\n",
       "<style scoped>\n",
       "    .dataframe tbody tr th:only-of-type {\n",
       "        vertical-align: middle;\n",
       "    }\n",
       "\n",
       "    .dataframe tbody tr th {\n",
       "        vertical-align: top;\n",
       "    }\n",
       "\n",
       "    .dataframe thead th {\n",
       "        text-align: right;\n",
       "    }\n",
       "</style>\n",
       "<table border=\"1\" class=\"dataframe\">\n",
       "  <thead>\n",
       "    <tr style=\"text-align: right;\">\n",
       "      <th></th>\n",
       "      <th>Type</th>\n",
       "      <th>predictor</th>\n",
       "      <th>TP</th>\n",
       "      <th>FP</th>\n",
       "      <th>TN</th>\n",
       "      <th>FN</th>\n",
       "      <th>total</th>\n",
       "      <th>TPR</th>\n",
       "      <th>TNR</th>\n",
       "      <th>precision</th>\n",
       "      <th>Fscore</th>\n",
       "      <th>accuracy</th>\n",
       "      <th>kappa</th>\n",
       "      <th>profit</th>\n",
       "      <th>index</th>\n",
       "      <th>ROME</th>\n",
       "      <th>contact</th>\n",
       "      <th>AUC</th>\n",
       "    </tr>\n",
       "  </thead>\n",
       "  <tbody>\n",
       "    <tr>\n",
       "      <th>0</th>\n",
       "      <td>All</td>\n",
       "      <td>pred_logit</td>\n",
       "      <td>3322</td>\n",
       "      <td>12227</td>\n",
       "      <td>33251</td>\n",
       "      <td>1200</td>\n",
       "      <td>50000</td>\n",
       "      <td>0.735</td>\n",
       "      <td>0.731</td>\n",
       "      <td>0.214</td>\n",
       "      <td>0.331</td>\n",
       "      <td>0.731</td>\n",
       "      <td>0.222</td>\n",
       "      <td>12157.5</td>\n",
       "      <td>1.0</td>\n",
       "      <td>1.564</td>\n",
       "      <td>0.311</td>\n",
       "      <td>0.812</td>\n",
       "    </tr>\n",
       "  </tbody>\n",
       "</table>\n",
       "</div>"
      ],
      "text/plain": [
       "  Type   predictor    TP     FP     TN    FN  total    TPR    TNR  precision  \\\n",
       "0  All  pred_logit  3322  12227  33251  1200  50000  0.735  0.731      0.214   \n",
       "\n",
       "   Fscore  accuracy  kappa   profit  index   ROME  contact    AUC  \n",
       "0   0.331     0.731  0.222  12157.5    1.0  1.564    0.311  0.812  "
      ]
     },
     "execution_count": 24,
     "metadata": {},
     "output_type": "execute_result"
    }
   ],
   "source": [
    "rsm.evalbin(bbb, \"buyer\", \"yes\", \"pred_logit\", cost=0.5, margin=6)"
   ]
  },
  {
   "cell_type": "markdown",
   "id": "charitable-while",
   "metadata": {},
   "source": [
    "In the development version of `pyrsm` there is a convenience function to calculate auc (version 0.4.7).  "
   ]
  },
  {
   "cell_type": "code",
   "execution_count": 25,
   "id": "removed-rubber",
   "metadata": {},
   "outputs": [
    {
     "data": {
      "text/plain": [
       "0.8117872664"
      ]
     },
     "execution_count": 25,
     "metadata": {},
     "output_type": "execute_result"
    }
   ],
   "source": [
    "rsm.auc(bbb.buyer_yes, bbb.pred_logit).round(10)"
   ]
  },
  {
   "cell_type": "code",
   "execution_count": 26,
   "id": "frank-mechanism",
   "metadata": {},
   "outputs": [
    {
     "data": {
      "text/plain": [
       "0.8117872664"
      ]
     },
     "execution_count": 26,
     "metadata": {},
     "output_type": "execute_result"
    }
   ],
   "source": [
    "fpr, tpr, thresholds = roc_curve(bbb.buyer_yes, bbb.pred_logit)\n",
    "auc(fpr, tpr).round(10)"
   ]
  },
  {
   "cell_type": "markdown",
   "id": "00140f99",
   "metadata": {},
   "source": [
    "Code from slides used in class ..."
   ]
  },
  {
   "cell_type": "code",
   "execution_count": 27,
   "id": "37cc6cc0",
   "metadata": {},
   "outputs": [
    {
     "data": {
      "text/html": [
       "<div>\n",
       "<style scoped>\n",
       "    .dataframe tbody tr th:only-of-type {\n",
       "        vertical-align: middle;\n",
       "    }\n",
       "\n",
       "    .dataframe tbody tr th {\n",
       "        vertical-align: top;\n",
       "    }\n",
       "\n",
       "    .dataframe thead th {\n",
       "        text-align: right;\n",
       "    }\n",
       "</style>\n",
       "<table border=\"1\" class=\"dataframe\">\n",
       "  <thead>\n",
       "    <tr style=\"text-align: right;\">\n",
       "      <th></th>\n",
       "      <th>buyer</th>\n",
       "      <th>probability</th>\n",
       "    </tr>\n",
       "  </thead>\n",
       "  <tbody>\n",
       "    <tr>\n",
       "      <th>0</th>\n",
       "      <td>yes</td>\n",
       "      <td>0.45</td>\n",
       "    </tr>\n",
       "    <tr>\n",
       "      <th>1</th>\n",
       "      <td>yes</td>\n",
       "      <td>0.62</td>\n",
       "    </tr>\n",
       "    <tr>\n",
       "      <th>2</th>\n",
       "      <td>yes</td>\n",
       "      <td>0.22</td>\n",
       "    </tr>\n",
       "    <tr>\n",
       "      <th>3</th>\n",
       "      <td>yes</td>\n",
       "      <td>0.86</td>\n",
       "    </tr>\n",
       "    <tr>\n",
       "      <th>4</th>\n",
       "      <td>yes</td>\n",
       "      <td>0.67</td>\n",
       "    </tr>\n",
       "    <tr>\n",
       "      <th>5</th>\n",
       "      <td>yes</td>\n",
       "      <td>0.43</td>\n",
       "    </tr>\n",
       "    <tr>\n",
       "      <th>6</th>\n",
       "      <td>no</td>\n",
       "      <td>0.05</td>\n",
       "    </tr>\n",
       "    <tr>\n",
       "      <th>7</th>\n",
       "      <td>no</td>\n",
       "      <td>0.01</td>\n",
       "    </tr>\n",
       "    <tr>\n",
       "      <th>8</th>\n",
       "      <td>no</td>\n",
       "      <td>0.02</td>\n",
       "    </tr>\n",
       "    <tr>\n",
       "      <th>9</th>\n",
       "      <td>no</td>\n",
       "      <td>0.04</td>\n",
       "    </tr>\n",
       "    <tr>\n",
       "      <th>10</th>\n",
       "      <td>no</td>\n",
       "      <td>0.03</td>\n",
       "    </tr>\n",
       "    <tr>\n",
       "      <th>11</th>\n",
       "      <td>no</td>\n",
       "      <td>0.05</td>\n",
       "    </tr>\n",
       "  </tbody>\n",
       "</table>\n",
       "</div>"
      ],
      "text/plain": [
       "   buyer  probability\n",
       "0    yes         0.45\n",
       "1    yes         0.62\n",
       "2    yes         0.22\n",
       "3    yes         0.86\n",
       "4    yes         0.67\n",
       "5    yes         0.43\n",
       "6     no         0.05\n",
       "7     no         0.01\n",
       "8     no         0.02\n",
       "9     no         0.04\n",
       "10    no         0.03\n",
       "11    no         0.05"
      ]
     },
     "execution_count": 27,
     "metadata": {},
     "output_type": "execute_result"
    }
   ],
   "source": [
    "auc_100 = pd.read_csv(\"data/auc-100.csv\")\n",
    "auc_100\n"
   ]
  },
  {
   "cell_type": "code",
   "execution_count": 28,
   "id": "5147a45b",
   "metadata": {},
   "outputs": [
    {
     "data": {
      "text/plain": [
       "1.0"
      ]
     },
     "execution_count": 28,
     "metadata": {},
     "output_type": "execute_result"
    }
   ],
   "source": [
    "pred_did_buy = auc_100.loc[auc_100[\"buyer\"] == \"yes\", \"probability\"]\n",
    "pred_did_not_buy = auc_100.loc[auc_100[\"buyer\"] == \"no\", \"probability\"]\n",
    "np.mean(\n",
    "    np.random.choice(pred_did_buy, size=1000)\n",
    "    > np.random.choice(pred_did_not_buy, size=1000)\n",
    ")\n"
   ]
  },
  {
   "cell_type": "code",
   "execution_count": 29,
   "id": "7d3de819",
   "metadata": {},
   "outputs": [
    {
     "data": {
      "text/plain": [
       "1.0"
      ]
     },
     "execution_count": 29,
     "metadata": {},
     "output_type": "execute_result"
    }
   ],
   "source": [
    "rsm.auc(auc_100.buyer, auc_100.probability, \"yes\")\n"
   ]
  },
  {
   "cell_type": "code",
   "execution_count": 30,
   "id": "0df86fcc",
   "metadata": {},
   "outputs": [
    {
     "data": {
      "text/html": [
       "<div>\n",
       "<style scoped>\n",
       "    .dataframe tbody tr th:only-of-type {\n",
       "        vertical-align: middle;\n",
       "    }\n",
       "\n",
       "    .dataframe tbody tr th {\n",
       "        vertical-align: top;\n",
       "    }\n",
       "\n",
       "    .dataframe thead th {\n",
       "        text-align: right;\n",
       "    }\n",
       "</style>\n",
       "<table border=\"1\" class=\"dataframe\">\n",
       "  <thead>\n",
       "    <tr style=\"text-align: right;\">\n",
       "      <th></th>\n",
       "      <th>buyer</th>\n",
       "      <th>probability</th>\n",
       "    </tr>\n",
       "  </thead>\n",
       "  <tbody>\n",
       "    <tr>\n",
       "      <th>0</th>\n",
       "      <td>yes</td>\n",
       "      <td>0.45</td>\n",
       "    </tr>\n",
       "    <tr>\n",
       "      <th>1</th>\n",
       "      <td>yes</td>\n",
       "      <td>0.03</td>\n",
       "    </tr>\n",
       "    <tr>\n",
       "      <th>2</th>\n",
       "      <td>yes</td>\n",
       "      <td>0.22</td>\n",
       "    </tr>\n",
       "    <tr>\n",
       "      <th>3</th>\n",
       "      <td>yes</td>\n",
       "      <td>0.04</td>\n",
       "    </tr>\n",
       "    <tr>\n",
       "      <th>4</th>\n",
       "      <td>yes</td>\n",
       "      <td>0.67</td>\n",
       "    </tr>\n",
       "    <tr>\n",
       "      <th>5</th>\n",
       "      <td>yes</td>\n",
       "      <td>0.05</td>\n",
       "    </tr>\n",
       "    <tr>\n",
       "      <th>6</th>\n",
       "      <td>no</td>\n",
       "      <td>0.05</td>\n",
       "    </tr>\n",
       "    <tr>\n",
       "      <th>7</th>\n",
       "      <td>no</td>\n",
       "      <td>0.62</td>\n",
       "    </tr>\n",
       "    <tr>\n",
       "      <th>8</th>\n",
       "      <td>no</td>\n",
       "      <td>0.02</td>\n",
       "    </tr>\n",
       "    <tr>\n",
       "      <th>9</th>\n",
       "      <td>no</td>\n",
       "      <td>0.86</td>\n",
       "    </tr>\n",
       "    <tr>\n",
       "      <th>10</th>\n",
       "      <td>no</td>\n",
       "      <td>0.03</td>\n",
       "    </tr>\n",
       "    <tr>\n",
       "      <th>11</th>\n",
       "      <td>no</td>\n",
       "      <td>0.43</td>\n",
       "    </tr>\n",
       "  </tbody>\n",
       "</table>\n",
       "</div>"
      ],
      "text/plain": [
       "   buyer  probability\n",
       "0    yes         0.45\n",
       "1    yes         0.03\n",
       "2    yes         0.22\n",
       "3    yes         0.04\n",
       "4    yes         0.67\n",
       "5    yes         0.05\n",
       "6     no         0.05\n",
       "7     no         0.62\n",
       "8     no         0.02\n",
       "9     no         0.86\n",
       "10    no         0.03\n",
       "11    no         0.43"
      ]
     },
     "execution_count": 30,
     "metadata": {},
     "output_type": "execute_result"
    }
   ],
   "source": [
    "auc_50 = pd.read_csv(\"data/auc-50.csv\")\n",
    "auc_50\n"
   ]
  },
  {
   "cell_type": "code",
   "execution_count": 31,
   "id": "05b53529",
   "metadata": {},
   "outputs": [
    {
     "data": {
      "text/plain": [
       "0.46"
      ]
     },
     "execution_count": 31,
     "metadata": {},
     "output_type": "execute_result"
    }
   ],
   "source": [
    "pred_did_buy = auc_50.loc[auc_50[\"buyer\"] == \"yes\", \"probability\"]\n",
    "pred_did_not_buy = auc_50.loc[auc_50[\"buyer\"] == \"no\", \"probability\"]\n",
    "np.mean(\n",
    "    np.random.choice(pred_did_buy, size=1000)\n",
    "    > np.random.choice(pred_did_not_buy, size=1000)\n",
    ")\n"
   ]
  },
  {
   "cell_type": "code",
   "execution_count": 32,
   "id": "aeddf53c",
   "metadata": {},
   "outputs": [
    {
     "data": {
      "text/plain": [
       "0.5"
      ]
     },
     "execution_count": 32,
     "metadata": {},
     "output_type": "execute_result"
    }
   ],
   "source": [
    "rsm.auc(auc_50.buyer, auc_50.probability, \"yes\")\n"
   ]
  },
  {
   "cell_type": "code",
   "execution_count": 33,
   "id": "62cebcbe",
   "metadata": {},
   "outputs": [
    {
     "data": {
      "text/html": [
       "<div>\n",
       "<style scoped>\n",
       "    .dataframe tbody tr th:only-of-type {\n",
       "        vertical-align: middle;\n",
       "    }\n",
       "\n",
       "    .dataframe tbody tr th {\n",
       "        vertical-align: top;\n",
       "    }\n",
       "\n",
       "    .dataframe thead th {\n",
       "        text-align: right;\n",
       "    }\n",
       "</style>\n",
       "<table border=\"1\" class=\"dataframe\">\n",
       "  <thead>\n",
       "    <tr style=\"text-align: right;\">\n",
       "      <th></th>\n",
       "      <th>buyer</th>\n",
       "      <th>probability</th>\n",
       "    </tr>\n",
       "  </thead>\n",
       "  <tbody>\n",
       "    <tr>\n",
       "      <th>0</th>\n",
       "      <td>yes</td>\n",
       "      <td>0.05</td>\n",
       "    </tr>\n",
       "    <tr>\n",
       "      <th>1</th>\n",
       "      <td>yes</td>\n",
       "      <td>0.01</td>\n",
       "    </tr>\n",
       "    <tr>\n",
       "      <th>2</th>\n",
       "      <td>yes</td>\n",
       "      <td>0.02</td>\n",
       "    </tr>\n",
       "    <tr>\n",
       "      <th>3</th>\n",
       "      <td>yes</td>\n",
       "      <td>0.04</td>\n",
       "    </tr>\n",
       "    <tr>\n",
       "      <th>4</th>\n",
       "      <td>yes</td>\n",
       "      <td>0.03</td>\n",
       "    </tr>\n",
       "    <tr>\n",
       "      <th>5</th>\n",
       "      <td>yes</td>\n",
       "      <td>0.05</td>\n",
       "    </tr>\n",
       "    <tr>\n",
       "      <th>6</th>\n",
       "      <td>no</td>\n",
       "      <td>0.45</td>\n",
       "    </tr>\n",
       "    <tr>\n",
       "      <th>7</th>\n",
       "      <td>no</td>\n",
       "      <td>0.62</td>\n",
       "    </tr>\n",
       "    <tr>\n",
       "      <th>8</th>\n",
       "      <td>no</td>\n",
       "      <td>0.22</td>\n",
       "    </tr>\n",
       "    <tr>\n",
       "      <th>9</th>\n",
       "      <td>no</td>\n",
       "      <td>0.86</td>\n",
       "    </tr>\n",
       "    <tr>\n",
       "      <th>10</th>\n",
       "      <td>no</td>\n",
       "      <td>0.67</td>\n",
       "    </tr>\n",
       "    <tr>\n",
       "      <th>11</th>\n",
       "      <td>no</td>\n",
       "      <td>0.43</td>\n",
       "    </tr>\n",
       "  </tbody>\n",
       "</table>\n",
       "</div>"
      ],
      "text/plain": [
       "   buyer  probability\n",
       "0    yes         0.05\n",
       "1    yes         0.01\n",
       "2    yes         0.02\n",
       "3    yes         0.04\n",
       "4    yes         0.03\n",
       "5    yes         0.05\n",
       "6     no         0.45\n",
       "7     no         0.62\n",
       "8     no         0.22\n",
       "9     no         0.86\n",
       "10    no         0.67\n",
       "11    no         0.43"
      ]
     },
     "execution_count": 33,
     "metadata": {},
     "output_type": "execute_result"
    }
   ],
   "source": [
    "auc_0 = pd.read_csv(\"data/auc-0.csv\")\n",
    "auc_0\n"
   ]
  },
  {
   "cell_type": "code",
   "execution_count": 34,
   "id": "ac3559a4",
   "metadata": {},
   "outputs": [
    {
     "data": {
      "text/plain": [
       "0.0"
      ]
     },
     "execution_count": 34,
     "metadata": {},
     "output_type": "execute_result"
    }
   ],
   "source": [
    "pred_did_buy = auc_0.loc[auc_0[\"buyer\"] == \"yes\", \"probability\"]\n",
    "pred_did_not_buy = auc_0.loc[auc_0[\"buyer\"] == \"no\", \"probability\"]\n",
    "np.mean(\n",
    "    np.random.choice(pred_did_buy, size=1000)\n",
    "    > np.random.choice(pred_did_not_buy, size=1000)\n",
    ")\n"
   ]
  },
  {
   "cell_type": "code",
   "execution_count": 35,
   "metadata": {},
   "outputs": [
    {
     "data": {
      "text/plain": [
       "1.0"
      ]
     },
     "execution_count": 35,
     "metadata": {},
     "output_type": "execute_result"
    }
   ],
   "source": [
    "rsm.auc(auc_0.buyer, auc_0.probability, \"yes\")"
   ]
  }
 ],
 "metadata": {
  "jupytext": {
   "cell_metadata_filter": "-all",
   "main_language": "python",
   "notebook_metadata_filter": "-all"
  },
  "kernelspec": {
   "display_name": "base",
   "language": "python",
   "name": "python3"
  },
  "language_info": {
   "codemirror_mode": {
    "name": "ipython",
    "version": 3
   },
   "file_extension": ".py",
   "mimetype": "text/x-python",
   "name": "python",
   "nbconvert_exporter": "python",
   "pygments_lexer": "ipython3",
   "version": "3.11.7"
  },
  "vscode": {
   "interpreter": {
    "hash": "d4d1e4263499bec80672ea0156c357c1ee493ec2b1c70f0acce89fc37c4a6abe"
   }
  }
 },
 "nbformat": 4,
 "nbformat_minor": 5
}
