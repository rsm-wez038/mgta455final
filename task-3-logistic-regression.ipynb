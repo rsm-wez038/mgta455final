{
 "cells": [
  {
   "cell_type": "code",
   "execution_count": 1,
   "id": "received-telescope",
   "metadata": {},
   "outputs": [
    {
     "data": {
      "text/plain": [
       "'0.9.26'"
      ]
     },
     "execution_count": 1,
     "metadata": {},
     "output_type": "execute_result"
    }
   ],
   "source": [
    "import pandas as pd\n",
    "import pyrsm as rsm\n",
    "\n",
    "rsm.__version__ # should be 0.9.26 or higher"
   ]
  },
  {
   "cell_type": "code",
   "execution_count": 2,
   "id": "8bd5f9d6",
   "metadata": {},
   "outputs": [],
   "source": [
    "# run the code below to ensure you have the latest version\n",
    "# %pip install --user pyrsm --upgrade"
   ]
  },
  {
   "cell_type": "code",
   "execution_count": 3,
   "id": "5719f153",
   "metadata": {},
   "outputs": [],
   "source": [
    "## setup pyrsm for autoreload when you edit code and save\n",
    "%reload_ext autoreload\n",
    "%autoreload 2\n",
    "%aimport pyrsm"
   ]
  },
  {
   "cell_type": "code",
   "execution_count": 4,
   "id": "cross-sussex",
   "metadata": {},
   "outputs": [
    {
     "data": {
      "text/html": [
       "<div>\n",
       "<style scoped>\n",
       "    .dataframe tbody tr th:only-of-type {\n",
       "        vertical-align: middle;\n",
       "    }\n",
       "\n",
       "    .dataframe tbody tr th {\n",
       "        vertical-align: top;\n",
       "    }\n",
       "\n",
       "    .dataframe thead th {\n",
       "        text-align: right;\n",
       "    }\n",
       "</style>\n",
       "<table border=\"1\" class=\"dataframe\">\n",
       "  <thead>\n",
       "    <tr style=\"text-align: right;\">\n",
       "      <th></th>\n",
       "      <th>buy</th>\n",
       "      <th>coupon</th>\n",
       "      <th>purch</th>\n",
       "      <th>last</th>\n",
       "    </tr>\n",
       "  </thead>\n",
       "  <tbody>\n",
       "    <tr>\n",
       "      <th>0</th>\n",
       "      <td>yes</td>\n",
       "      <td>5</td>\n",
       "      <td>2</td>\n",
       "      <td>5</td>\n",
       "    </tr>\n",
       "    <tr>\n",
       "      <th>1</th>\n",
       "      <td>no</td>\n",
       "      <td>5</td>\n",
       "      <td>2</td>\n",
       "      <td>33</td>\n",
       "    </tr>\n",
       "    <tr>\n",
       "      <th>2</th>\n",
       "      <td>no</td>\n",
       "      <td>4</td>\n",
       "      <td>11</td>\n",
       "      <td>11</td>\n",
       "    </tr>\n",
       "    <tr>\n",
       "      <th>3</th>\n",
       "      <td>no</td>\n",
       "      <td>3</td>\n",
       "      <td>5</td>\n",
       "      <td>25</td>\n",
       "    </tr>\n",
       "    <tr>\n",
       "      <th>4</th>\n",
       "      <td>no</td>\n",
       "      <td>1</td>\n",
       "      <td>1</td>\n",
       "      <td>15</td>\n",
       "    </tr>\n",
       "    <tr>\n",
       "      <th>...</th>\n",
       "      <td>...</td>\n",
       "      <td>...</td>\n",
       "      <td>...</td>\n",
       "      <td>...</td>\n",
       "    </tr>\n",
       "    <tr>\n",
       "      <th>19995</th>\n",
       "      <td>yes</td>\n",
       "      <td>4</td>\n",
       "      <td>9</td>\n",
       "      <td>23</td>\n",
       "    </tr>\n",
       "    <tr>\n",
       "      <th>19996</th>\n",
       "      <td>no</td>\n",
       "      <td>4</td>\n",
       "      <td>2</td>\n",
       "      <td>25</td>\n",
       "    </tr>\n",
       "    <tr>\n",
       "      <th>19997</th>\n",
       "      <td>no</td>\n",
       "      <td>1</td>\n",
       "      <td>10</td>\n",
       "      <td>11</td>\n",
       "    </tr>\n",
       "    <tr>\n",
       "      <th>19998</th>\n",
       "      <td>no</td>\n",
       "      <td>4</td>\n",
       "      <td>1</td>\n",
       "      <td>1</td>\n",
       "    </tr>\n",
       "    <tr>\n",
       "      <th>19999</th>\n",
       "      <td>no</td>\n",
       "      <td>2</td>\n",
       "      <td>2</td>\n",
       "      <td>11</td>\n",
       "    </tr>\n",
       "  </tbody>\n",
       "</table>\n",
       "<p>20000 rows × 4 columns</p>\n",
       "</div>"
      ],
      "text/plain": [
       "       buy  coupon  purch  last\n",
       "0      yes       5      2     5\n",
       "1       no       5      2    33\n",
       "2       no       4     11    11\n",
       "3       no       3      5    25\n",
       "4       no       1      1    15\n",
       "...    ...     ...    ...   ...\n",
       "19995  yes       4      9    23\n",
       "19996   no       4      2    25\n",
       "19997   no       1     10    11\n",
       "19998   no       4      1     1\n",
       "19999   no       2      2    11\n",
       "\n",
       "[20000 rows x 4 columns]"
      ]
     },
     "execution_count": 4,
     "metadata": {},
     "output_type": "execute_result"
    }
   ],
   "source": [
    "# load data\n",
    "dvd = pd.read_parquet(\"data/dvd.parquet\")\n",
    "dvd"
   ]
  },
  {
   "cell_type": "code",
   "execution_count": 5,
   "id": "corporate-protein",
   "metadata": {},
   "outputs": [
    {
     "data": {
      "text/markdown": [
       "## DVD\n",
       "\n",
       "### Description\n",
       "\n",
       "The data contain information on a sample of 20,000 customers who received an \"instant coupon.\" The value of the coupon was varied between \\$1 and \\$5 and randomly assigned to the selected customers.\n",
       "\n",
       "Our interest is in estimating the effect of the coupon on purchase of a newly released DVD. We will also investigate the role of two additional variables: `purch` is a measure of frequency of purchase and `last` is a measure of the recency of the last purchase by a customer. These measures are often used in practice to predict response rates.\n",
       "\n",
       "Customers who received the coupon and purchased the DVD are identified in the data by the variable `buy`. Because the variable we want to predict is binary (`buy` = `yes` if the customer purchased the DVD and `buy` = `no` if she did not), logistic regression is appropriate.\n",
       "\n",
       "### Variables\n",
       "\n",
       "* buy = `yes` if the customer purchased the DVD and `no` if she did not\n",
       "* coupon = value of an \"instant coupon\" in dollars. the value varies between \\$1 and \\$5\n",
       "* coupon = value of an \"instant coupon\" in dollars. the value varies between \\$1 and \\$5\n",
       "* purch = number of purchases by the customer in the past year\n",
       "* last = days since the last purchase by the customer\n",
       "\n",
       "### Source\n",
       "\n",
       "The dataset `dvd.rda` is available for download from <a href = \"https://vnijs.github.io/radiant/examples/dvd.rda\" target=\"_blank\">GitHub</a>."
      ],
      "text/plain": [
       "<IPython.core.display.Markdown object>"
      ]
     },
     "metadata": {},
     "output_type": "display_data"
    }
   ],
   "source": [
    "# review the data\n",
    "rsm.md(\"data/dvd_description.md\")"
   ]
  },
  {
   "cell_type": "markdown",
   "id": "announced-exercise",
   "metadata": {},
   "source": [
    "Estimate a logistic regression model with `coupon`, `purch`, and `last` as the explanatory variables"
   ]
  },
  {
   "cell_type": "markdown",
   "id": "68b96379",
   "metadata": {},
   "source": [
    "Calculate model fit measures, variable, importance, and prediction plots"
   ]
  },
  {
   "cell_type": "code",
   "execution_count": 6,
   "id": "994fe2c3",
   "metadata": {},
   "outputs": [
    {
     "data": {
      "text/plain": [
       "buy\n",
       "no     14754\n",
       "yes     5246\n",
       "Name: count, dtype: int64"
      ]
     },
     "execution_count": 6,
     "metadata": {},
     "output_type": "execute_result"
    }
   ],
   "source": [
    "dvd.buy.value_counts(dropna=False)"
   ]
  },
  {
   "cell_type": "code",
   "execution_count": 7,
   "id": "31639437",
   "metadata": {},
   "outputs": [
    {
     "name": "stdout",
     "output_type": "stream",
     "text": [
      "Logistic regression (GLM)\n",
      "Data                 : dvd\n",
      "Response variable    : buy\n",
      "Level                : yes\n",
      "Explanatory variables: coupon, purch, last\n",
      "Null hyp.: There is no effect of x on buy\n",
      "Alt. hyp.: There is an effect of x on buy\n",
      "\n",
      "              OR     OR%  coefficient  std.error  z.value p.value     \n",
      "Intercept  0.048  -95.2%        -3.04      0.063  -48.136  < .001  ***\n",
      "coupon     2.169  116.9%         0.77      0.015   51.240  < .001  ***\n",
      "purch      1.095    9.5%         0.09      0.005   17.879  < .001  ***\n",
      "last       0.933   -6.7%        -0.07      0.002  -35.388  < .001  ***\n",
      "\n",
      "Signif. codes:  0 '***' 0.001 '**' 0.01 '*' 0.05 '.' 0.1 ' ' 1\n",
      "\n",
      "Pseudo R-squared (McFadden): 0.208\n",
      "Pseudo R-squared (McFadden adjusted): 0.208\n",
      "Area under the RO Curve (AUC): 0.803\n",
      "Log-likelihood: -9110.529, AIC: 18229.058, BIC: 18260.672\n",
      "Chi-squared: 4796.899, df(3), p.value < 0.001 \n",
      "Nr obs: 20,000\n"
     ]
    }
   ],
   "source": [
    "lr = rsm.model.logistic(\n",
    "    {\"dvd\": dvd},\n",
    "    rvar=\"buy\",\n",
    "    lev=\"yes\",\n",
    "    evar=[\"coupon\", \"purch\", \"last\"]\n",
    ")\n",
    "lr.summary()"
   ]
  },
  {
   "cell_type": "code",
   "execution_count": 8,
   "id": "e72bef6d",
   "metadata": {},
   "outputs": [
    {
     "data": {
      "image/png": "[encoded data removed]",
      "text/plain": [
       "<Figure size 1000x800 with 3 Axes>"
      ]
     },
     "metadata": {},
     "output_type": "display_data"
    }
   ],
   "source": [
    "lr.plot(\"pred\")"
   ]
  },
  {
   "cell_type": "code",
   "execution_count": 9,
   "id": "3d36798e",
   "metadata": {},
   "outputs": [
    {
     "data": {
      "image/png": "[encoded data removed]",
      "text/plain": [
       "<Figure size 600x500 with 1 Axes>"
      ]
     },
     "metadata": {},
     "output_type": "display_data"
    }
   ],
   "source": [
    "lr.plot(\"vimp\")"
   ]
  },
  {
   "cell_type": "code",
   "execution_count": 10,
   "id": "3aaf9ead",
   "metadata": {},
   "outputs": [
    {
     "data": {
      "text/html": [
       "<div>\n",
       "<style scoped>\n",
       "    .dataframe tbody tr th:only-of-type {\n",
       "        vertical-align: middle;\n",
       "    }\n",
       "\n",
       "    .dataframe tbody tr th {\n",
       "        vertical-align: top;\n",
       "    }\n",
       "\n",
       "    .dataframe thead th {\n",
       "        text-align: right;\n",
       "    }\n",
       "</style>\n",
       "<table border=\"1\" class=\"dataframe\">\n",
       "  <thead>\n",
       "    <tr style=\"text-align: right;\">\n",
       "      <th></th>\n",
       "      <th>index</th>\n",
       "      <th>OR</th>\n",
       "      <th>OR%</th>\n",
       "      <th>coefficient</th>\n",
       "      <th>std.error</th>\n",
       "      <th>z.value</th>\n",
       "      <th>p.value</th>\n",
       "      <th></th>\n",
       "    </tr>\n",
       "  </thead>\n",
       "  <tbody>\n",
       "    <tr>\n",
       "      <th>0</th>\n",
       "      <td>Intercept</td>\n",
       "      <td>0.048</td>\n",
       "      <td>-95.206</td>\n",
       "      <td>-3.038</td>\n",
       "      <td>0.063</td>\n",
       "      <td>-48.136</td>\n",
       "      <td>0.0</td>\n",
       "      <td>***</td>\n",
       "    </tr>\n",
       "    <tr>\n",
       "      <th>1</th>\n",
       "      <td>coupon</td>\n",
       "      <td>2.169</td>\n",
       "      <td>116.866</td>\n",
       "      <td>0.774</td>\n",
       "      <td>0.015</td>\n",
       "      <td>51.240</td>\n",
       "      <td>0.0</td>\n",
       "      <td>***</td>\n",
       "    </tr>\n",
       "    <tr>\n",
       "      <th>2</th>\n",
       "      <td>purch</td>\n",
       "      <td>1.095</td>\n",
       "      <td>9.539</td>\n",
       "      <td>0.091</td>\n",
       "      <td>0.005</td>\n",
       "      <td>17.879</td>\n",
       "      <td>0.0</td>\n",
       "      <td>***</td>\n",
       "    </tr>\n",
       "    <tr>\n",
       "      <th>3</th>\n",
       "      <td>last</td>\n",
       "      <td>0.933</td>\n",
       "      <td>-6.678</td>\n",
       "      <td>-0.069</td>\n",
       "      <td>0.002</td>\n",
       "      <td>-35.388</td>\n",
       "      <td>0.0</td>\n",
       "      <td>***</td>\n",
       "    </tr>\n",
       "  </tbody>\n",
       "</table>\n",
       "</div>"
      ],
      "text/plain": [
       "       index     OR      OR%  coefficient  std.error  z.value  p.value     \n",
       "0  Intercept  0.048  -95.206       -3.038      0.063  -48.136      0.0  ***\n",
       "1     coupon  2.169  116.866        0.774      0.015   51.240      0.0  ***\n",
       "2      purch  1.095    9.539        0.091      0.005   17.879      0.0  ***\n",
       "3       last  0.933   -6.678       -0.069      0.002  -35.388      0.0  ***"
      ]
     },
     "execution_count": 10,
     "metadata": {},
     "output_type": "execute_result"
    }
   ],
   "source": [
    "lr.coef.round(3)"
   ]
  },
  {
   "cell_type": "code",
   "execution_count": 11,
   "id": "5c4cecb7",
   "metadata": {},
   "outputs": [
    {
     "name": "stdout",
     "output_type": "stream",
     "text": [
      "\n",
      "Model 1: buy ~ coupon\n",
      "Model 2: buy ~ coupon + purch + last\n",
      "Pseudo R-squared, Model 1 vs 2: 0.134 vs 0.208\n",
      "Chi-squared: 1718.203 df (2), p.value < .001\n"
     ]
    }
   ],
   "source": [
    "# test if purch and last (together) significantly improve the model\n",
    "lr.summary(main=False, fit=False, test=[\"purch\", \"last\"])"
   ]
  },
  {
   "cell_type": "code",
   "execution_count": 12,
   "id": "331e2979-7f85-4615-b8c2-a74d42efd7ea",
   "metadata": {},
   "outputs": [
    {
     "name": "stdout",
     "output_type": "stream",
     "text": [
      "Logistic regression (GLM)\n",
      "Data                 : dvd\n",
      "Response variable    : buy\n",
      "Level                : yes\n",
      "Explanatory variables: coupon, purch, last\n",
      "Null hyp.: There is no effect of x on buy\n",
      "Alt. hyp.: There is an effect of x on buy\n",
      "\n",
      "              OR     OR%  coefficient  std.error  z.value p.value     \n",
      "Intercept  0.048  -95.2%        -3.04      0.063  -48.136  < .001  ***\n",
      "coupon     2.169  116.9%         0.77      0.015   51.240  < .001  ***\n",
      "purch      1.095    9.5%         0.09      0.005   17.879  < .001  ***\n",
      "last       0.933   -6.7%        -0.07      0.002  -35.388  < .001  ***\n",
      "\n",
      "Signif. codes:  0 '***' 0.001 '**' 0.01 '*' 0.05 '.' 0.1 ' ' 1\n",
      "\n",
      "Pseudo R-squared (McFadden): 0.208\n",
      "Pseudo R-squared (McFadden adjusted): 0.208\n",
      "Area under the RO Curve (AUC): 0.803\n",
      "Log-likelihood: -9110.529, AIC: 18229.058, BIC: 18260.672\n",
      "Chi-squared: 4796.899, df(3), p.value < 0.001 \n",
      "Nr obs: 20,000\n",
      "\n",
      "Model 1: buy ~ coupon\n",
      "Model 2: buy ~ coupon + purch + last\n",
      "Pseudo R-squared, Model 1 vs 2: 0.134 vs 0.208\n",
      "Chi-squared: 1718.203 df (2), p.value < .001\n"
     ]
    }
   ],
   "source": [
    "# test if purch and last (together) significantly improve the model\n",
    "lr.summary(test=[\"purch\", \"last\"])"
   ]
  },
  {
   "cell_type": "code",
   "execution_count": null,
   "id": "9b6b2900",
   "metadata": {},
   "outputs": [],
   "source": []
  }
 ],
 "metadata": {
  "jupytext": {
   "cell_metadata_filter": "-all",
   "main_language": "python",
   "notebook_metadata_filter": "-all"
  },
  "kernelspec": {
   "display_name": "Python 3 (ipykernel)",
   "language": "python",
   "name": "python3"
  },
  "language_info": {
   "codemirror_mode": {
    "name": "ipython",
    "version": 3
   },
   "file_extension": ".py",
   "mimetype": "text/x-python",
   "name": "python",
   "nbconvert_exporter": "python",
   "pygments_lexer": "ipython3",
   "version": "3.11.7"
  }
 },
 "nbformat": 4,
 "nbformat_minor": 5
}
